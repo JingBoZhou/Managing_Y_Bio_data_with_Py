{
 "cells": [
  {
   "cell_type": "markdown",
   "metadata": {},
   "source": [
    "# Chapter 4 Parsing Data Records\n",
    "# 第四章 解析数据记录"
   ]
  },
  {
   "cell_type": "code",
   "execution_count": 1,
   "metadata": {},
   "outputs": [],
   "source": [
    "# Common imports\n",
    "import numpy as np\n",
    "import os\n",
    "# Where to save the data\n",
    "PROJECT_ROOT_DIR = \"./data/chap_4/\""
   ]
  },
  {
   "cell_type": "markdown",
   "metadata": {},
   "source": [
    "## 4.2 STORY: INTEGRATING MASS SPECTROMETRY DATA INTO METABOLIC PATHWAYS"
   ]
  },
  {
   "cell_type": "code",
   "execution_count": 21,
   "metadata": {},
   "outputs": [
    {
     "name": "stdout",
     "output_type": "stream",
     "text": [
      "['P62258', 'P61981', 'P62191', 'P17980', 'P43686', 'P35998', 'P62333', 'Q99460', 'O75832']\n",
      "['P43686', 'P62333']\n",
      "P62258 not observed\n",
      "P61981 not observed\n",
      "P62191 not observed\n",
      "P17980 not observed\n",
      "P43686 detected in the cancer cell\n",
      "P35998 not observed\n",
      "P62333 detected in the cancer cell\n",
      "Q99460 not observed\n",
      "O75832 not observed\n"
     ]
    }
   ],
   "source": [
    "# Protein participating in cell cycle\n",
    "list_a = []\n",
    "for line in open(os.path.join(PROJECT_ROOT_DIR,'cell_cycle_proteins.txt')):\n",
    "    list_a.append(line.strip())\n",
    "print(list_a)\n",
    "\n",
    "# Proteins expressed in a given cancer cell \n",
    "list_b = []\n",
    "for line in open(os.path.join(PROJECT_ROOT_DIR,'cancer_cell_proteins.txt')):\n",
    "    list_b.append(line.strip())\n",
    "print(list_b)\n",
    "\n",
    "for protein in list_a:\n",
    "    if protein in list_b:\n",
    "        print(protein,\"detected in the cancer cell\")\n",
    "    else:\n",
    "        print(protein,\"not observed\")"
   ]
  },
  {
   "cell_type": "markdown",
   "metadata": {},
   "source": [
    "### 4.3.1 The if/elif/else Statements"
   ]
  },
  {
   "cell_type": "code",
   "execution_count": 24,
   "metadata": {},
   "outputs": [
    {
     "name": "stdout",
     "output_type": "stream",
     "text": [
      "GGG is at position:  27\n",
      "RRR is at position:  13\n",
      "Either WWW or AAA occur in the sequence\n",
      "AAA occurs in the sequence but not PPP\n"
     ]
    }
   ],
   "source": [
    "seq = \"MGSNKSKPKDASQRRRSLEPAENVHGAGGGA\\\n",
    "FPASQTPSKPASADGHRGPSAm,AFAPAAAE\"\n",
    "\n",
    "if 'GGG' in seq and 'RRR'in seq:\n",
    "    print('GGG is at position: ', seq.find('GGG'))\n",
    "    print('RRR is at position: ', seq.find('RRR'))\n",
    "if 'WWW' in seq or 'AAA' in seq:\n",
    "    print('Either WWW or AAA occur in the sequence') \n",
    "if 'AAA' in seq and not 'PPP' in seq:\n",
    "    print('AAA occurs in the sequence but not PPP')"
   ]
  },
  {
   "cell_type": "markdown",
   "metadata": {},
   "source": [
    "### 4.3.3 Concise Ways to Create Lists\n",
    "**List Comprehension**"
   ]
  },
  {
   "cell_type": "code",
   "execution_count": 28,
   "metadata": {},
   "outputs": [
    {
     "name": "stdout",
     "output_type": "stream",
     "text": [
      "['G', 'G', 'A', 'C', 'C', 'A', 'G', 'G', 'A', 'T', 'T']\n"
     ]
    }
   ],
   "source": [
    "bases = ['A', 'C', 'T', 'G']\n",
    "seq = 'GGACXCAGXXGATT'\n",
    "seqlist = [base for base in seq if base in bases]\n",
    "print(seqlist)"
   ]
  },
  {
   "cell_type": "markdown",
   "metadata": {},
   "source": [
    "### Example 4.1 Read a Sequence File in FASTA Format and Write Only the Sequence Header to a New File"
   ]
  },
  {
   "cell_type": "code",
   "execution_count": 29,
   "metadata": {
    "collapsed": true
   },
   "outputs": [],
   "source": [
    "fasta_file = open(os.path.join(PROJECT_ROOT_DIR,\"SwissProt.fasta\"),\"r\")\n",
    "out_file = open(os.path.join(PROJECT_ROOT_DIR,\"SwissProt.header\"),\"w\")\n",
    "for line in fasta_file:\n",
    "    if line.startswith(\">\"):\n",
    "        out_file.write(line)\n",
    "fasta_file.close()\n",
    "out_file.close()"
   ]
  },
  {
   "cell_type": "markdown",
   "metadata": {},
   "source": [
    "### Example 4.2 How to Extract a List of Accession Codes from a Multiple Sequence FASTA File "
   ]
  },
  {
   "cell_type": "code",
   "execution_count": 31,
   "metadata": {},
   "outputs": [
    {
     "name": "stdout",
     "output_type": "stream",
     "text": [
      "['P06213', 'P01308', 'P08025', 'P05019', 'P09208', 'P15127', 'P08069', 'P24062', 'P01344', 'P15208']\n"
     ]
    }
   ],
   "source": [
    "ac_list = []\n",
    "input_file = open(os.path.join(PROJECT_ROOT_DIR,\"SwissProt.fasta\"),\"r\")\n",
    "for line in input_file:\n",
    "    if line.startswith(\">\"):\n",
    "        fields = line.split(\"|\")[1]\n",
    "        ac_list.append(fields)\n",
    "input_file.close()\n",
    "print(ac_list)"
   ]
  },
  {
   "cell_type": "markdown",
   "metadata": {},
   "source": [
    "### Example 4.3 How to Parse GenBank Sequence Records"
   ]
  },
  {
   "cell_type": "code",
   "execution_count": 45,
   "metadata": {
    "collapsed": true
   },
   "outputs": [],
   "source": [
    "InputFile = open(os.path.join(PROJECT_ROOT_DIR,\"AY810830.gb\"),\"r\")\n",
    "OutputFile = open(os.path.join(PROJECT_ROOT_DIR,\"AY810830.fasta\"),\"w\")\n",
    "flag = 0\n",
    "\n",
    "for line in InputFile:\n",
    "    if line.startswith('ACCESSION'):\n",
    "        AC = line.split()[1].strip()\n",
    "        OutputFile.write(\">\"+AC+\"\\n\")\n",
    "    elif line[0:6] == \"ORIGIN\":\n",
    "        flag = 1\n",
    "    elif flag == 1:\n",
    "        fields = line.rstrip().split()\n",
    "        if fields != []:\n",
    "            seq = ''.join(fields[1:])\n",
    "            OutputFile.write(seq.upper()+\"\\n\")\n",
    "InputFile.close()\n",
    "OutputFile.close()"
   ]
  },
  {
   "cell_type": "markdown",
   "metadata": {},
   "source": [
    "### Example 4.4 Read a Multiple Sequence File in FASTA Format and Write Records from Homo sapiens to a New File"
   ]
  },
  {
   "cell_type": "code",
   "execution_count": 4,
   "metadata": {
    "collapsed": true
   },
   "outputs": [],
   "source": [
    "fasta_file = open(os.path.join(PROJECT_ROOT_DIR,\"SwissProt.fasta\"),\"r\")\n",
    "out_file = open(os.path.join(PROJECT_ROOT_DIR,\"SwissProtHuman.fasta\"),\"w\")\n",
    "seq = ''\n",
    "\n",
    "for line in fasta_file:\n",
    "    if line[0:1] == '>' and seq == '':\n",
    "# process the first line of the input file\n",
    "        header = line\n",
    "    elif line [0:1] != '>':\n",
    "# join the lines with sequence\n",
    "        seq += line.strip()\n",
    "    elif line[0:1] == '>' and seq != '':\n",
    "# in subsequent lines starting with '>',\n",
    "# write the previous header and sequence\n",
    "# to the output file. Then re-initialize\n",
    "# the header and seq variables for the next record\n",
    "        if \"Homo sapiens\" in line:\n",
    "            out_file.write(header + seq+'\\n')\n",
    "            seq = ''\n",
    "            header = line\n",
    "# take care of the very last record of the input file\n",
    "if \"Homo sapiens\" in header:\n",
    "    out_file.write(header + seq+\"\\n\")\n",
    "out_file.close()"
   ]
  },
  {
   "cell_type": "markdown",
   "metadata": {
    "collapsed": true
   },
   "source": [
    "## 4.5 TESTING YOURSELF"
   ]
  },
  {
   "cell_type": "markdown",
   "metadata": {},
   "source": [
    "### Exercise 4.1 Read and Write Multiple Sequence FASTA Files\n",
    "\n",
    "Read a multiple sequence file in FASTA format and write each record\n",
    "(header + sequence) to a different file.\n",
    "\n",
    "**Hint**: The instruction to open the output file must be inserted in the for\n",
    "loop (a new file must be opened for each sequence record).\n",
    "\n",
    "**Hint**: You can select the AC number from each header line (using the\n",
    "split() method), collect it into a variable (e.g., AC = line.split()[1].\n",
    "strip()), and use it to assign a name to the output file (e.g., outfile =\n",
    "open(AC, \"w\"))."
   ]
  },
  {
   "cell_type": "code",
   "execution_count": 3,
   "metadata": {},
   "outputs": [],
   "source": [
    "for line in open(os.path.join(PROJECT_ROOT_DIR,\"SwissProt.fasta\"),\"r\"):\n",
    "    if line.startswith(\">\"):\n",
    "        AC = line.split(\"|\")[1]\n",
    "        out_file = open(os.path.join(PROJECT_ROOT_DIR,\"%s.fasta\"%(AC)),\"w\")\n",
    "        out_file.write(AC+'\\n')\n",
    "    else:\n",
    "        out_file.write(line)"
   ]
  },
  {
   "cell_type": "markdown",
   "metadata": {},
   "source": [
    "### Exercise 4.2 Read and Filter FASTA Files\n",
    "\n",
    "Read a multiple sequence file in FASTA format and write to a new file\n",
    "only the sequences starting with a methionine and containing at least two\n",
    "tryptophanes.\n",
    "\n",
    "**Hint**: This exercise is very similar to Example 4.4. In this case, you have to\n",
    "apply conditions (first character must be 'M' and seq.count('W') > 1)\n",
    "to the seq variable instead of to the header variable."
   ]
  },
  {
   "cell_type": "code",
   "execution_count": 9,
   "metadata": {},
   "outputs": [
    {
     "name": "stdout",
     "output_type": "stream",
     "text": [
      ">sp|P06213|INSR_HUMAN Insulin receptor OS=Homo sapiens GN=INSR PE=1 SV=4\n",
      "\n",
      ">sp|P01308|INS_HUMAN Insulin OS=Homo sapiens GN=INS PE=1 SV=1\n",
      "\n",
      ">sp|P08025|IGF1_RAT Insulin-like growth factor I OS=Rattus norvegicus GN=Igf1 PE=1 SV=3\n",
      "\n",
      ">sp|P15127|INSR_RAT Insulin receptor OS=Rattus norvegicus GN=Insr PE=1 SV=1\n",
      "\n",
      ">sp|P08069|IGF1R_HUMAN Insulin-like growth factor 1 receptor OS=Homo sapiens GN=IGF1R PE=1 SV=1\n",
      "\n",
      ">sp|P24062|IGF1R_RAT Insulin-like growth factor 1 receptor OS=Rattus norvegicus GN=Igf1r PE=2 SV=2\n",
      "\n",
      ">sp|P01344|IGF2_HUMAN Insulin-like growth factor II OS=Homo sapiens GN=IGF2 PE=1 SV=1\n",
      "\n"
     ]
    }
   ],
   "source": [
    "fasta_file = open(os.path.join(PROJECT_ROOT_DIR,\"SwissProt.fasta\"),\"r\")\n",
    "out_file = open(os.path.join(PROJECT_ROOT_DIR,\"M_W_W.fasta\"),\"w\")\n",
    "seq = ''\n",
    "\n",
    "for line in fasta_file:\n",
    "    if line[0] == '>' and seq == '':\n",
    "        header = line\n",
    "        \n",
    "    elif line[0] != '>':\n",
    "        seq += line\n",
    "        \n",
    "    elif line[0] == \">\" and seq != '':\n",
    "        if seq.startswith(\"M\") and seq.count(\"W\") > 1:\n",
    "            out_file.write(header+seq)\n",
    "            seq = \"\"\n",
    "            header = line\n",
    "\n",
    "if seq.startswith(\"M\") and seq.count(\"W\") > 2:\n",
    "    out_file.write(header+seq)\n",
    "\n",
    "out_file.close()"
   ]
  },
  {
   "cell_type": "markdown",
   "metadata": {},
   "source": [
    "### Exercise 4.4 Nucleotide Frequency in Several DNA Sequences in FASTA Format \n",
    "\n",
    "Redo Exercise 4.3 using a nucleotide multiple sequence file in FASTA format.\n",
    "\n",
    "**Print**, for each record, the AC and the four (A, C, T, G) frequencies. Is there\n",
    "a sequence in your file with an anomalous frequency of some nucleotides?"
   ]
  },
  {
   "cell_type": "code",
   "execution_count": 63,
   "metadata": {},
   "outputs": [
    {
     "name": "stdout",
     "output_type": "stream",
     "text": [
      "The Accession Number is: M57671.1\n",
      "The nucleotide A frequnce is 19.91%\n",
      "The nucleotide C frequnce is 31.02%\n",
      "The nucleotide T frequnce is 21.53%\n",
      "The nucleotide G frequnce is 27.55%\n",
      "The Accession Number is: NM_001204686.1\n",
      "The nucleotide A frequnce is 26.34%\n",
      "The nucleotide C frequnce is 25.31%\n",
      "The nucleotide T frequnce is 25.21%\n",
      "The nucleotide G frequnce is 23.14%\n",
      "The Accession Number is: L15440.1\n",
      "The nucleotide A frequnce is 17.74%\n",
      "The nucleotide C frequnce is 31.48%\n",
      "The nucleotide T frequnce is 17.72%\n",
      "The nucleotide G frequnce is 33.06%\n",
      "The Accession Number is: AH002844.2\n",
      "The nucleotide A frequnce is 17.93\n",
      "The nucleotide C frequnce is 29.22\n",
      "The nucleotide T frequnce is 17.49\n",
      "The nucleotide G frequnce is 33.35\n"
     ]
    }
   ],
   "source": [
    "dna_file = open(os.path.join(PROJECT_ROOT_DIR,\"sequence.fasta\"),\"r\")\n",
    "seq = ''\n",
    "\n",
    "for line in dna_file:\n",
    "    if line.startswith(\">\") and seq == '':\n",
    "        AC = line.split(\" \")[0][1:]\n",
    "    \n",
    "    elif line[0] != \">\":\n",
    "        seq += line.rstrip()\n",
    "    \n",
    "    elif line[0] == \">\" and seq != '':\n",
    "        print(\"The Accession Number is: %s\"%(AC))\n",
    "        length = float(len(seq))\n",
    "        AC = line.split(\" \")[0][1:]\n",
    "        for nucleotide in \"ACTG\":\n",
    "            number = seq.upper().count(nucleotide)\n",
    "            frequency = number / length * 100\n",
    "\n",
    "            print(\"The nucleotide %s frequnce is %5.2f%%\"%(nucleotide,frequency))\n",
    "        seq = ''\n",
    "        \n",
    "print(\"The Accession Number is: %s\"%(AC))\n",
    "length = float(len(seq))\n",
    "        \n",
    "for nucleotide in \"ACTG\":\n",
    "    number = seq.upper().count(nucleotide)\n",
    "    frequency = number / length * 100\n",
    "\n",
    "    print(\"The nucleotide %s frequnce is %5.2f\"%(nucleotide,frequency))"
   ]
  },
  {
   "cell_type": "markdown",
   "metadata": {},
   "source": [
    "### Exercise 4.5 Nucleotide Frequency in Several DNA Sequences in GenBank Format\n",
    "\n",
    "Redo Exercise 4.4 using a nucleotide multiple record file in GenBank format."
   ]
  },
  {
   "cell_type": "code",
   "execution_count": 61,
   "metadata": {},
   "outputs": [
    {
     "name": "stdout",
     "output_type": "stream",
     "text": [
      "Accession Number is: NW_004798128\n",
      "The nucleotide A frequnce is 23.32%\n",
      "The nucleotide C frequnce is 16.03%\n",
      "The nucleotide T frequnce is 21.83%\n",
      "The nucleotide G frequnce is 15.40%\n",
      "Accession Number is: L15440\n",
      "The nucleotide A frequnce is 17.74%\n",
      "The nucleotide C frequnce is 31.48%\n",
      "The nucleotide T frequnce is 17.72%\n",
      "The nucleotide G frequnce is 33.06%\n",
      "Accession Number is: AH002844\n",
      "The nucleotide A frequnce is 17.93%\n",
      "The nucleotide C frequnce is 29.22%\n",
      "The nucleotide T frequnce is 17.49%\n",
      "The nucleotide G frequnce is 33.35%\n"
     ]
    }
   ],
   "source": [
    "genbank_mul = open(os.path.join(PROJECT_ROOT_DIR,\"genbank_mul.gb\"),\"r\")\n",
    "flag = 0\n",
    "sequence = ''\n",
    "\n",
    "for line in genbank_mul:\n",
    "    if line[0:9] == \"ACCESSION\":\n",
    "        AC = line.split()[1].strip()\n",
    "    \n",
    "    elif line[0:6] == \"ORIGIN\":\n",
    "        flag = 1\n",
    "    \n",
    "    elif flag == 1:\n",
    "        if line.startswith(\"//\"):\n",
    "            flag = 0\n",
    "            print(\"Accession Number is: %s\"%(AC))\n",
    "            length = float(len(sequence))\n",
    "            \n",
    "            for nucleotide in \"ACTG\":\n",
    "                number = sequence.upper().count(nucleotide)\n",
    "                frequency = number / length * 100\n",
    "                print(\"The nucleotide %s frequnce is %5.2f%%\"%(nucleotide,frequency))\n",
    "            \n",
    "            sequence = ''\n",
    "        else:\n",
    "            fields = line.strip().split()\n",
    "            if fields != []:\n",
    "                sequence += ''.join(fields[1:])     "
   ]
  },
  {
   "cell_type": "code",
   "execution_count": 2,
   "metadata": {},
   "outputs": [],
   "source": [
    "genbank_mul = open(os.path.join(PROJECT_ROOT_DIR,\"genbank_mul.gb\"),\"r\")"
   ]
  },
  {
   "cell_type": "code",
   "execution_count": 4,
   "metadata": {},
   "outputs": [
    {
     "data": {
      "text/plain": [
       "'LOCUS       NW_004798128          314614 bp    DNA     linear   CON 07-JUL-2015\\n'"
      ]
     },
     "execution_count": 4,
     "metadata": {},
     "output_type": "execute_result"
    }
   ],
   "source": [
    "genbank_mul.readline()"
   ]
  },
  {
   "cell_type": "code",
   "execution_count": 11,
   "metadata": {},
   "outputs": [
    {
     "data": {
      "text/plain": [
       "'            Assembly: GCF_000002075.1\\n'"
      ]
     },
     "execution_count": 11,
     "metadata": {},
     "output_type": "execute_result"
    }
   ],
   "source": [
    "next(genbank_mul)"
   ]
  },
  {
   "cell_type": "code",
   "execution_count": null,
   "metadata": {},
   "outputs": [],
   "source": []
  }
 ],
 "metadata": {
  "kernelspec": {
   "display_name": "Python 3",
   "language": "python",
   "name": "python3"
  },
  "language_info": {
   "codemirror_mode": {
    "name": "ipython",
    "version": 3
   },
   "file_extension": ".py",
   "mimetype": "text/x-python",
   "name": "python",
   "nbconvert_exporter": "python",
   "pygments_lexer": "ipython3",
   "version": "3.6.3"
  }
 },
 "nbformat": 4,
 "nbformat_minor": 2
}
