{
 "cells": [
  {
   "cell_type": "markdown",
   "metadata": {},
   "source": [
    "# Chapter 1 The Python Shell"
   ]
  },
  {
   "cell_type": "markdown",
   "metadata": {},
   "source": [
    "## CALCULATING THE ΔG OF ATP HYDROLYSIS"
   ]
  },
  {
   "cell_type": "markdown",
   "metadata": {},
   "source": [
    "$$\\Delta G = \\Delta G^0 + RT \\times \\ln (\\frac{[ADP] \\times [P_i]}{[ATP]})$$"
   ]
  },
  {
   "cell_type": "code",
   "execution_count": 3,
   "metadata": {},
   "outputs": [
    {
     "name": "stdout",
     "output_type": "stream",
     "text": [
      "-28.1611541611\n"
     ]
    }
   ],
   "source": [
    "import math\n",
    "\n",
    "ATP = 3.5\n",
    "ADP = 1.8\n",
    "Pi = 5.0\n",
    "R = 0.00831  #8.31 J/kmol or 0.00831 KJ/kmol\n",
    "T = 273 + 25\n",
    "deltaG0 = -30.5\n",
    "\n",
    "deltaG = deltaG0 + R * T * math.log(ADP * Pi / ATP)  #KJ/kmol\n",
    "print(deltaG)"
   ]
  },
  {
   "cell_type": "markdown",
   "metadata": {},
   "source": [
    "## Calculate the volume of a 50 ml Falcon tube (a plastic cylinder used for centrifugation) that is 115 mm long and 30 mm wide"
   ]
  },
  {
   "cell_type": "markdown",
   "metadata": {},
   "source": [
    "$$V = \\pi r^2 h$$"
   ]
  },
  {
   "cell_type": "code",
   "execution_count": 4,
   "metadata": {},
   "outputs": [
    {
     "name": "stdout",
     "output_type": "stream",
     "text": [
      "81288.7099116\n"
     ]
    }
   ],
   "source": [
    "import math\n",
    "\n",
    "diameter = 30.0\n",
    "radius = diameter / 2\n",
    "length = 115.0\n",
    "V = math.pi * radius ** 2 * length \n",
    "print(V)"
   ]
  },
  {
   "cell_type": "markdown",
   "metadata": {},
   "source": [
    "## Calculate the Distance between Two Points"
   ]
  },
  {
   "cell_type": "markdown",
   "metadata": {},
   "source": [
    "$$d(p_1,p_2) = \\sqrt{(x_1 - x_2)^2 + (y_1 - y_2)^2 + (z_1 - z_2)^2}$$"
   ]
  },
  {
   "cell_type": "code",
   "execution_count": 5,
   "metadata": {},
   "outputs": [
    {
     "name": "stdout",
     "output_type": "stream",
     "text": [
      "3.56651090003\n"
     ]
    }
   ],
   "source": [
    "import math\n",
    "\n",
    "x1, y1, z1 = 0.1, 0.0, -0.7\n",
    "x2, y2, z2 = 0.5, -1.0, 2.7\n",
    "dx = x1 - x2\n",
    "dy = y1 - y2\n",
    "dz = z1 - z2\n",
    "dsquare = math.pow(dx,2) + math.pow(dy,2) + math.pow(dz,2)\n",
    "d = math.sqrt(dsquare)\n",
    "print(d)"
   ]
  },
  {
   "cell_type": "markdown",
   "metadata": {},
   "source": [
    "## TESTING"
   ]
  },
  {
   "cell_type": "markdown",
   "metadata": {},
   "source": [
    "### Calculate the ΔG Value for All Three Tissues"
   ]
  },
  {
   "cell_type": "markdown",
   "metadata": {},
   "source": [
    "In which tissue does ATP hydrolysis set the most energy free? Use the code provided earlier to answer the question. (See Table 1.1.)"
   ]
  },
  {
   "cell_type": "code",
   "execution_count": 25,
   "metadata": {},
   "outputs": [
    {
     "name": "stdout",
     "output_type": "stream",
     "text": [
      " Liver deltaG is: -28.161KJ/mol \n",
      " Muscle deltaG is:-30.761KJ/mol \n",
      " Brain deltaG is:-31.477KJ/mol\n",
      "The most energy free is -31.477KJ/mol\n"
     ]
    }
   ],
   "source": [
    "from __future__ import print_function\n",
    "import math\n",
    "\n",
    "Liver_deltaG = -28.1611541611 # Calculate above\n",
    "Muscle_ATP, Brain_ATP = 8.0, 2.6\n",
    "Muscle_ADP, Brain_ADP = 0.9, 0.7\n",
    "Muscle_Pi, Brain_Pi = 8.0, 2.7\n",
    "\n",
    "Muscle_deltaG = deltaG0 + R * T * math.log(Muscle_ATP * Muscle_ADP / Muscle_Pi)\n",
    "Brain_deltaG = deltaG0 + R * T * math.log(Brain_ATP * Brain_ADP / Brain_Pi)\n",
    "print(\" Liver deltaG is: {:.3f}KJ/mol\".format(Liver_deltaG),\"\\n\", \n",
    "      \"Muscle deltaG is:{:.3f}KJ/mol\".format(Muscle_deltaG),\"\\n\",\n",
    "       \"Brain deltaG is:{:.3f}KJ/mol\".format(Brain_deltaG))\n",
    "\n",
    "compare = sorted([Liver_deltaG,Muscle_deltaG,Brain_deltaG])\n",
    "print(\"The most energy free is {:.3f}KJ/mol\".format(compare[0]))"
   ]
  },
  {
   "cell_type": "markdown",
   "metadata": {},
   "source": [
    "### Convert the Values to kcal"
   ]
  },
  {
   "cell_type": "markdown",
   "metadata": {},
   "source": [
    "Calculate the three ΔG values for all three tissues to kcal/mol. The conversion factor is 1 kcal/mol = 4.184 kJ/mol."
   ]
  },
  {
   "cell_type": "code",
   "execution_count": 26,
   "metadata": {},
   "outputs": [
    {
     "name": "stdout",
     "output_type": "stream",
     "text": [
      "[-6.730677380760038, -7.352034577859638, -7.5231171345796275]\n"
     ]
    }
   ],
   "source": [
    "deltaG_all = [Liver_deltaG,Muscle_deltaG,Brain_deltaG]\n",
    "KJ_to_Kcal = [x / 4.184 for x in deltaG_all]\n",
    "print(KJ_to_Kcal)"
   ]
  },
  {
   "cell_type": "markdown",
   "metadata": {},
   "source": [
    "### pH Calculation"
   ]
  },
  {
   "cell_type": "markdown",
   "metadata": {},
   "source": [
    "In a solution you have a proton concentration of 0.003162 mM. What is the pH of the solution?"
   ]
  },
  {
   "cell_type": "markdown",
   "metadata": {},
   "source": [
    "$$pH = -lg(c(H^+))$$"
   ]
  },
  {
   "cell_type": "code",
   "execution_count": 29,
   "metadata": {},
   "outputs": [
    {
     "name": "stdout",
     "output_type": "stream",
     "text": [
      "2.5000381344\n"
     ]
    }
   ],
   "source": [
    "import math\n",
    "H = 0.003162\n",
    "pH = - math.log10(H)\n",
    "print(pH)"
   ]
  },
  {
   "cell_type": "markdown",
   "metadata": {},
   "source": [
    "### Exponential Growth"
   ]
  },
  {
   "cell_type": "markdown",
   "metadata": {},
   "source": [
    "Given optimal growth conditions, a single E. coli bacterium can divide within 20 minutes. If the conditions stay optimal, how many bacteria are there after 6 hours?"
   ]
  },
  {
   "cell_type": "code",
   "execution_count": 33,
   "metadata": {},
   "outputs": [
    {
     "name": "stdout",
     "output_type": "stream",
     "text": [
      "262144\n"
     ]
    }
   ],
   "source": [
    "time = 6 * 60 / 20.0\n",
    "numbers = 2 ** time\n",
    "print(int(numbers))"
   ]
  },
  {
   "cell_type": "markdown",
   "metadata": {},
   "source": [
    "### Calculate the Volume of a Bacterial Cell"
   ]
  },
  {
   "cell_type": "markdown",
   "metadata": {},
   "source": [
    "The average length of an E. coli cell is given as 2.0 μm, and its diameter as 0.5 μm. What would the volume of one bacterial cell be if it were a perfect cylinder? Use Python to do the calculation. Use variables for the parameters."
   ]
  },
  {
   "cell_type": "markdown",
   "metadata": {},
   "source": [
    "$$V = \\pi r^2 h$$"
   ]
  },
  {
   "cell_type": "code",
   "execution_count": 36,
   "metadata": {},
   "outputs": [
    {
     "name": "stdout",
     "output_type": "stream",
     "text": [
      "The volume of one bacterial cell is: 0.393 μm3\n"
     ]
    }
   ],
   "source": [
    "import math\n",
    "\n",
    "diameter = 0.5\n",
    "radius = diameter / 2\n",
    "length = 2.0\n",
    "V = math.pi * radius ** 2 * length \n",
    "print(\"The volume of one bacterial cell is: {0:.3f} μm3\".format(V))"
   ]
  },
  {
   "cell_type": "code",
   "execution_count": null,
   "metadata": {
    "collapsed": true
   },
   "outputs": [],
   "source": []
  }
 ],
 "metadata": {
  "kernelspec": {
   "display_name": "Python 2",
   "language": "python",
   "name": "python2"
  },
  "language_info": {
   "codemirror_mode": {
    "name": "ipython",
    "version": 2
   },
   "file_extension": ".py",
   "mimetype": "text/x-python",
   "name": "python",
   "nbconvert_exporter": "python",
   "pygments_lexer": "ipython2",
   "version": "2.7.14"
  }
 },
 "nbformat": 4,
 "nbformat_minor": 2
}
