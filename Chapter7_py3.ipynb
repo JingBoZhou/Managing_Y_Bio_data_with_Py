{
 "cells": [
  {
   "cell_type": "markdown",
   "metadata": {},
   "source": [
    "# Chapter 7 Managing Tabular Data"
   ]
  },
  {
   "cell_type": "code",
   "execution_count": 1,
   "metadata": {},
   "outputs": [],
   "source": [
    "# Common imports\n",
    "import numpy as np\n",
    "import os\n",
    "# Where to save the data\n",
    "PROJECT_ROOT_DIR = \"./data/chap_7/\""
   ]
  },
  {
   "cell_type": "markdown",
   "metadata": {},
   "source": [
    "## 7.2 STORY: DETERMINING PROTEIN CONCENTRATIONS\n",
    "\n",
    "### 7.2.2 Example Python Session"
   ]
  },
  {
   "cell_type": "code",
   "execution_count": 6,
   "metadata": {},
   "outputs": [
    {
     "name": "stdout",
     "output_type": "stream",
     "text": [
      "0.16 \t 0.038\n",
      "0.33 \t 0.089\n",
      "0.66 \t 0.184\n",
      "1.0 \t 0.28\n",
      "1.32 \t 0.365\n",
      "1.66 \t 0.441\n",
      "0.16 \t 0.044\n",
      "0.33 \t 0.095\n",
      "0.66 \t 0.191\n",
      "1.0 \t 0.292\n",
      "1.32 \t 0.367\n",
      "1.66 \t 0.443\n",
      "0.16 \t 0.04\n",
      "0.33 \t 0.091\n",
      "0.66 \t 0.191\n",
      "1.0 \t 0.283\n",
      "1.32 \t 0.365\n",
      "1.66 \t 0.444\n"
     ]
    }
   ],
   "source": [
    "table = [\n",
    "['protein', 'ext1', 'ext2', 'ext3'],\n",
    "[0.16, 0.038, 0.044, 0.040],\n",
    "[0.33, 0.089, 0.095, 0.091],\n",
    "[0.66, 0.184, 0.191, 0.191],\n",
    "[1.00, 0.280, 0.292, 0.283],\n",
    "[1.32, 0.365, 0.367, 0.365],\n",
    "[1.66, 0.441, 0.443, 0.444]\n",
    "]\n",
    "table = table[1:]\n",
    "protein, ext1, ext2, ext3 = zip(*table)\n",
    "\n",
    "extinction = ext1 + ext2 + ext3\n",
    "protein = protein * 3\n",
    "\n",
    "table = zip(protein,extinction)\n",
    "\n",
    "for prot, ext in table:\n",
    "    print(prot,'\\t',ext)"
   ]
  },
  {
   "cell_type": "markdown",
   "metadata": {},
   "source": [
    "## 7.4 EXAMPLES\n",
    "\n",
    "### Example 7.3 How to Convert Table Representations"
   ]
  },
  {
   "cell_type": "code",
   "execution_count": 7,
   "metadata": {},
   "outputs": [
    {
     "name": "stdout",
     "output_type": "stream",
     "text": [
      "{'row1': {'protein': 0.16, 'ext1': 0.038, 'ext2': 0.044, 'ext3': 0.04}, 'row2': {'protein': 0.33, 'ext1': 0.089, 'ext2': 0.095, 'ext3': 0.091}, 'row3': {'protein': 0.66, 'ext1': 0.184, 'ext2': 0.191, 'ext3': 0.191}, 'row4': {'protein': 1.0, 'ext1': 0.28, 'ext2': 0.292, 'ext3': 0.283}, 'row5': {'protein': 1.32, 'ext1': 0.365, 'ext2': 0.367, 'ext3': 0.365}, 'row6': {'protein': 1.66, 'ext1': 0.441, 'ext2': 0.443, 'ext3': 0.444}}\n"
     ]
    }
   ],
   "source": [
    "table = [\n",
    "['protein', 'ext1', 'ext2', 'ext3'],\n",
    "[0.16, 0.038, 0.044, 0.040],\n",
    "[0.33, 0.089, 0.095, 0.091],\n",
    "[0.66, 0.184, 0.191, 0.191],\n",
    "[1.00, 0.280, 0.292, 0.283],\n",
    "[1.32, 0.365, 0.367, 0.365],\n",
    "[1.66, 0.441, 0.443, 0.444]\n",
    "]\n",
    "\n",
    "nested_dict ={}\n",
    "n = 0\n",
    "key = table[0]\n",
    "# To include the header, run the for loop over\n",
    "# ALL table elements (including the first one)\n",
    "for row in table[1:]:\n",
    "    n += 1\n",
    "    entry = {key[i]:row[i] for i in range(4)}\n",
    "    nested_dict['row'+str(n)] = entry\n",
    "\n",
    "print(nested_dict)"
   ]
  },
  {
   "cell_type": "code",
   "execution_count": 14,
   "metadata": {},
   "outputs": [
    {
     "name": "stdout",
     "output_type": "stream",
     "text": [
      "[[0.16, 0.038, 0.044, 0.04], [0.33, 0.089, 0.095, 0.091], [0.66, 0.184, 0.191, 0.191], [1.0, 0.28, 0.292, 0.283], [1.32, 0.365, 0.367, 0.365], [1.66, 0.441, 0.443, 0.444]]\n"
     ]
    }
   ],
   "source": [
    "nested_list = []\n",
    "for entry in nested_dict:\n",
    "    key = nested_dict[entry]\n",
    "    nested_list.append([key[i] for i in key])\n",
    "    \n",
    "print(nested_list)"
   ]
  },
  {
   "cell_type": "markdown",
   "metadata": {},
   "source": [
    "### Example 7.5 How to Write Files with Tabular Data"
   ]
  },
  {
   "cell_type": "code",
   "execution_count": 17,
   "metadata": {},
   "outputs": [
    {
     "data": {
      "text/plain": [
       "158"
      ]
     },
     "execution_count": 17,
     "metadata": {},
     "output_type": "execute_result"
    }
   ],
   "source": [
    "table = [\n",
    "['protein', 'ext1', 'ext2', 'ext3'],\n",
    "[0.16, 0.038, 0.044, 0.040],\n",
    "[0.33, 0.089, 0.095, 0.091],\n",
    "[0.66, 0.184, 0.191, 0.191],\n",
    "[1.00, 0.280, 0.292, 0.283],\n",
    "[1.32, 0.365, 0.367, 0.365],\n",
    "[1.66, 0.441, 0.443, 0.444]\n",
    "]\n",
    "\n",
    "out = ''\n",
    "for row in table:\n",
    "    line = [str(cell) for cell in row]\n",
    "    out = out + '\\t'.join(line)+'\\n'\n",
    "    \n",
    "open(os.path.join(PROJECT_ROOT_DIR,'lowry_data.txt'),'w').write(out)"
   ]
  },
  {
   "cell_type": "markdown",
   "metadata": {},
   "source": [
    "### Example 7.4 How to Read Files with Tabular Data"
   ]
  },
  {
   "cell_type": "code",
   "execution_count": 18,
   "metadata": {},
   "outputs": [
    {
     "name": "stdout",
     "output_type": "stream",
     "text": [
      "[['protein', 'ext1', 'ext2', 'ext3'], ['0.16', '0.038', '0.044', '0.04'], ['0.33', '0.089', '0.095', '0.091'], ['0.66', '0.184', '0.191', '0.191'], ['1.0', '0.28', '0.292', '0.283'], ['1.32', '0.365', '0.367', '0.365'], ['1.66', '0.441', '0.443', '0.444']]\n"
     ]
    }
   ],
   "source": [
    "table = []\n",
    "for line in open(os.path.join(PROJECT_ROOT_DIR,'lowry_data.txt'),'r'):\n",
    "    table.append(line.strip().split('\\t'))\n",
    "print(table)"
   ]
  },
  {
   "cell_type": "markdown",
   "metadata": {},
   "source": [
    "## 7.5 TESTING YOURSELF\n",
    "\n",
    "### Exercise 7.1\n",
    "Add a row with average concentrations or extinctions to the table in the code example in Section 7.2.2 and print it."
   ]
  },
  {
   "cell_type": "code",
   "execution_count": 42,
   "metadata": {},
   "outputs": [
    {
     "name": "stdout",
     "output_type": "stream",
     "text": [
      "[['protein', 'ext1', 'ext2', 'ext3'], [0.16, 0.038, 0.044, 0.04], [0.33, 0.089, 0.095, 0.091], [0.66, 0.184, 0.191, 0.191], [1.0, 0.28, 0.292, 0.283], [1.32, 0.365, 0.367, 0.365], [1.66, 0.441, 0.443, 0.444], [0.85500002, 0.23283333, 0.23866665, 0.23566668]]\n"
     ]
    }
   ],
   "source": [
    "import numpy as np\n",
    "\n",
    "table = [\n",
    "['protein', 'ext1', 'ext2', 'ext3'],\n",
    "[0.16, 0.038, 0.044, 0.040],\n",
    "[0.33, 0.089, 0.095, 0.091],\n",
    "[0.66, 0.184, 0.191, 0.191],\n",
    "[1.00, 0.280, 0.292, 0.283],\n",
    "[1.32, 0.365, 0.367, 0.365],\n",
    "[1.66, 0.441, 0.443, 0.444]\n",
    "]\n",
    "\n",
    "avg = [(np.mean(i,dtype=np.float32)) for i in zip(*table[1:])]\n",
    "table.append(avg)\n",
    "print(table)"
   ]
  },
  {
   "cell_type": "markdown",
   "metadata": {},
   "source": [
    "### Exercise 7.2\n",
    "\n",
    "Convert the table from the code example in Section 7.2.2 to a list of dictionaries."
   ]
  },
  {
   "cell_type": "code",
   "execution_count": 52,
   "metadata": {},
   "outputs": [
    {
     "name": "stdout",
     "output_type": "stream",
     "text": [
      "[{'protein': 0.16, 'ext1': 0.038, 'ext2': 0.044, 'ext3': 0.04}, {'protein': 0.33, 'ext1': 0.089, 'ext2': 0.095, 'ext3': 0.091}, {'protein': 0.66, 'ext1': 0.184, 'ext2': 0.191, 'ext3': 0.191}, {'protein': 1.0, 'ext1': 0.28, 'ext2': 0.292, 'ext3': 0.283}, {'protein': 1.32, 'ext1': 0.365, 'ext2': 0.367, 'ext3': 0.365}, {'protein': 1.66, 'ext1': 0.441, 'ext2': 0.443, 'ext3': 0.444}]\n"
     ]
    }
   ],
   "source": [
    "table = [\n",
    "['protein', 'ext1', 'ext2', 'ext3'],\n",
    "[0.16, 0.038, 0.044, 0.040],\n",
    "[0.33, 0.089, 0.095, 0.091],\n",
    "[0.66, 0.184, 0.191, 0.191],\n",
    "[1.00, 0.280, 0.292, 0.283],\n",
    "[1.32, 0.365, 0.367, 0.365],\n",
    "[1.66, 0.441, 0.443, 0.444]\n",
    "]\n",
    "\n",
    "title = table[0]\n",
    "entry_table = []\n",
    "for row in table[1:]:\n",
    "    entry = {title[i]:row[i] for i in range(len(title))}\n",
    "    entry_table.append(entry)\n",
    "print(entry_table)"
   ]
  },
  {
   "cell_type": "markdown",
   "metadata": {},
   "source": [
    "### Exercise 7.3 Reading Matrices from Text Files\n",
    "\n",
    "You have a similarity matrix of RNA bases:\n",
    "\n",
    "Write the matrix to a text file. Write a program that reads the matrix from the file to a table and prints it to the screen."
   ]
  },
  {
   "cell_type": "code",
   "execution_count": 58,
   "metadata": {},
   "outputs": [],
   "source": [
    "import numpy as np\n",
    "from pandas import DataFrame\n",
    "\n",
    "input_matrx = np.array([[1.0, 0.5, 0.0, 0.0],\n",
    "[0.5, 1.0, 0.0, 0.0],\n",
    "[0.0, 0.0, 1.0, 0.5],\n",
    "[0.0, 0.0, 0.5, 1.0]])\n",
    "\n",
    "f = DataFrame(input_matrx,index=['A','G','C','U'],columns=['A','G','C','U'])\n",
    "f.to_csv(os.path.join(PROJECT_ROOT_DIR,'Similarity.txt'),sep='\\t')"
   ]
  },
  {
   "cell_type": "code",
   "execution_count": 67,
   "metadata": {},
   "outputs": [
    {
     "name": "stdout",
     "output_type": "stream",
     "text": [
      "[['', 'A', 'G', 'C', 'U'], ['A', '1.0', '0.5', '0.0', '0.0'], ['G', '0.5', '1.0', '0.0', '0.0'], ['C', '0.0', '0.0', '1.0', '0.5'], ['U', '0.0', '0.0', '0.5', '1.0']]\n"
     ]
    }
   ],
   "source": [
    "table =[]\n",
    "\n",
    "for line in open(os.path.join(PROJECT_ROOT_DIR,'Similarity.txt'),'r'):\n",
    "    table.append(line.rstrip().split(\"\\t\"))\n",
    "\n",
    "print(table)"
   ]
  },
  {
   "cell_type": "markdown",
   "metadata": {},
   "source": [
    "### Exercise 7.4: Similarity of RNA Sequences\n",
    "\n",
    "Write a program that calculates the similarity of the two RNA sequences:\n",
    "\n",
    "    AGCAUCUA\n",
    "    ACCGUUCU\n",
    "**Hint**: To calculate the similarity, you need to extract similarity values from the matrix from Exercise 7.3. You will need a for loop that runs over both sequences simultaneously. This can be achieved using the instruction\n",
    "\n",
    "    for base1, base2 in zip(seq1, seq2):\n",
    "**Hint**: The sequence similarity of the two sequences is the sum of all base–base similarities."
   ]
  },
  {
   "cell_type": "code",
   "execution_count": 71,
   "metadata": {},
   "outputs": [
    {
     "data": {
      "text/html": [
       "<div>\n",
       "<style scoped>\n",
       "    .dataframe tbody tr th:only-of-type {\n",
       "        vertical-align: middle;\n",
       "    }\n",
       "\n",
       "    .dataframe tbody tr th {\n",
       "        vertical-align: top;\n",
       "    }\n",
       "\n",
       "    .dataframe thead th {\n",
       "        text-align: right;\n",
       "    }\n",
       "</style>\n",
       "<table border=\"1\" class=\"dataframe\">\n",
       "  <thead>\n",
       "    <tr style=\"text-align: right;\">\n",
       "      <th></th>\n",
       "      <th>A</th>\n",
       "      <th>G</th>\n",
       "      <th>C</th>\n",
       "      <th>U</th>\n",
       "    </tr>\n",
       "    <tr>\n",
       "      <th>Unnamed: 0</th>\n",
       "      <th></th>\n",
       "      <th></th>\n",
       "      <th></th>\n",
       "      <th></th>\n",
       "    </tr>\n",
       "  </thead>\n",
       "  <tbody>\n",
       "    <tr>\n",
       "      <th>A</th>\n",
       "      <td>1.0</td>\n",
       "      <td>0.5</td>\n",
       "      <td>0.0</td>\n",
       "      <td>0.0</td>\n",
       "    </tr>\n",
       "    <tr>\n",
       "      <th>G</th>\n",
       "      <td>0.5</td>\n",
       "      <td>1.0</td>\n",
       "      <td>0.0</td>\n",
       "      <td>0.0</td>\n",
       "    </tr>\n",
       "    <tr>\n",
       "      <th>C</th>\n",
       "      <td>0.0</td>\n",
       "      <td>0.0</td>\n",
       "      <td>1.0</td>\n",
       "      <td>0.5</td>\n",
       "    </tr>\n",
       "    <tr>\n",
       "      <th>U</th>\n",
       "      <td>0.0</td>\n",
       "      <td>0.0</td>\n",
       "      <td>0.5</td>\n",
       "      <td>1.0</td>\n",
       "    </tr>\n",
       "  </tbody>\n",
       "</table>\n",
       "</div>"
      ],
      "text/plain": [
       "              A    G    C    U\n",
       "Unnamed: 0                    \n",
       "A           1.0  0.5  0.0  0.0\n",
       "G           0.5  1.0  0.0  0.0\n",
       "C           0.0  0.0  1.0  0.5\n",
       "U           0.0  0.0  0.5  1.0"
      ]
     },
     "execution_count": 71,
     "metadata": {},
     "output_type": "execute_result"
    }
   ],
   "source": [
    "from pandas import read_csv\n",
    "\n",
    "table = read_csv(os.path.join(PROJECT_ROOT_DIR,'Similarity.txt'),sep='\\t')\n",
    "table = table.set_index('Unnamed: 0')\n",
    "table"
   ]
  },
  {
   "cell_type": "code",
   "execution_count": 76,
   "metadata": {},
   "outputs": [
    {
     "name": "stdout",
     "output_type": "stream",
     "text": [
      "4.5\n"
     ]
    }
   ],
   "source": [
    "seq1 = 'AGCAUCUA'\n",
    "seq2 = 'ACCGUUCU'\n",
    "score = 0\n",
    "\n",
    "for base1, base2 in zip(seq1, seq2):\n",
    "    score += table[base1][base2]\n",
    "\n",
    "print(score)"
   ]
  },
  {
   "cell_type": "markdown",
   "metadata": {},
   "source": [
    "### Exercise 7.5 Printing Table Columns and Rows Selectively\n",
    "\n",
    "Write a program that prints the entire second row of the Lowry table (Table 7.1). Then print the entire protein concentration column. Do this for the nested list and for the nested dictionary you obtained in Exercise 7.2. What advantages and disadvantages do you observe in both approaches?"
   ]
  },
  {
   "cell_type": "code",
   "execution_count": 77,
   "metadata": {},
   "outputs": [
    {
     "name": "stdout",
     "output_type": "stream",
     "text": [
      "[0.16, 0.038, 0.044, 0.04]\n",
      "protein\n",
      "0.16\n",
      "0.33\n",
      "0.66\n",
      "1.0\n",
      "1.32\n",
      "1.66\n",
      "0.16\n",
      "0.33\n",
      "0.66\n",
      "1.0\n",
      "1.32\n",
      "1.66\n"
     ]
    }
   ],
   "source": [
    "table1 = [\n",
    "['protein', 'ext1', 'ext2', 'ext3'],\n",
    "[0.16, 0.038, 0.044, 0.040],\n",
    "[0.33, 0.089, 0.095, 0.091],\n",
    "[0.66, 0.184, 0.191, 0.191],\n",
    "[1.00, 0.280, 0.292, 0.283],\n",
    "[1.32, 0.365, 0.367, 0.365],\n",
    "[1.66, 0.441, 0.443, 0.444]\n",
    "]\n",
    "\n",
    "table2 = [{'protein': 0.16, 'ext1': 0.038, 'ext2': 0.044, 'ext3': 0.04}, \n",
    "          {'protein': 0.33, 'ext1': 0.089, 'ext2': 0.095, 'ext3': 0.091}, \n",
    "          {'protein': 0.66, 'ext1': 0.184, 'ext2': 0.191, 'ext3': 0.191}, \n",
    "          {'protein': 1.0, 'ext1': 0.28, 'ext2': 0.292, 'ext3': 0.283}, \n",
    "          {'protein': 1.32, 'ext1': 0.365, 'ext2': 0.367, 'ext3': 0.365}, \n",
    "          {'protein': 1.66, 'ext1': 0.441, 'ext2': 0.443, 'ext3': 0.444}]\n",
    "\n",
    "print(table1[1])\n",
    "for row in table1:\n",
    "    print(row[0])\n",
    "\n",
    "for k in table2:\n",
    "    print(k['protein'])"
   ]
  },
  {
   "cell_type": "code",
   "execution_count": null,
   "metadata": {},
   "outputs": [],
   "source": []
  }
 ],
 "metadata": {
  "kernelspec": {
   "display_name": "Python 3",
   "language": "python",
   "name": "python3"
  },
  "language_info": {
   "codemirror_mode": {
    "name": "ipython",
    "version": 3
   },
   "file_extension": ".py",
   "mimetype": "text/x-python",
   "name": "python",
   "nbconvert_exporter": "python",
   "pygments_lexer": "ipython3",
   "version": "3.6.3"
  }
 },
 "nbformat": 4,
 "nbformat_minor": 2
}
