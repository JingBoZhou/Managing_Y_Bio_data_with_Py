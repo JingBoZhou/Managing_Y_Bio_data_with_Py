{
 "cells": [
  {
   "cell_type": "markdown",
   "metadata": {},
   "source": [
    "# Chapter 6 Filtering Data"
   ]
  },
  {
   "cell_type": "code",
   "execution_count": 3,
   "metadata": {},
   "outputs": [],
   "source": [
    "# Common imports\n",
    "import numpy as np\n",
    "import os\n",
    "# Where to save the data\n",
    "PROJECT_ROOT_DIR = \"./data/chap_6/\""
   ]
  },
  {
   "cell_type": "markdown",
   "metadata": {},
   "source": [
    "## 6.2 STORY: WORKING WITH RNA-SEQ OUTPUT DATA"
   ]
  },
  {
   "cell_type": "markdown",
   "metadata": {},
   "source": [
    "### 6.2.2 Example Python Session"
   ]
  },
  {
   "cell_type": "code",
   "execution_count": 6,
   "metadata": {},
   "outputs": [],
   "source": [
    "tracking = open(os.path.join(PROJECT_ROOT_DIR,\"transcripts.tracking\"),\"r\")\n",
    "out_file = open(os.path.join(PROJECT_ROOT_DIR,\"transcripts-filtered.tracking\"),\"w\")\n",
    "\n",
    "for track in tracking:\n",
    "    columns = track.strip().split(\"\\t\")\n",
    "    wildtype = columns[4:7].count(\"-\")\n",
    "    treatment = columns[7:10].count(\"-\")\n",
    "    if wildtype < 2 and treatment < 2:\n",
    "        out_file.write(track)\n",
    "\n",
    "tracking.close()\n",
    "out_file.close()"
   ]
  },
  {
   "cell_type": "markdown",
   "metadata": {},
   "source": [
    "### 6.3.2 Combining Two Data Sets"
   ]
  },
  {
   "cell_type": "code",
   "execution_count": 8,
   "metadata": {},
   "outputs": [
    {
     "name": "stdout",
     "output_type": "stream",
     "text": [
      "[1, 5]\n"
     ]
    }
   ],
   "source": [
    "data_a = [1, 2, 3, 4, 5, 6]\n",
    "data_b = [1, 5, 7, 8, 9]\n",
    "a_and_b = []\n",
    "\n",
    "for num in data_a:\n",
    "    if num in data_b:\n",
    "        a_and_b.append(num)\n",
    "print(a_and_b)"
   ]
  },
  {
   "cell_type": "markdown",
   "metadata": {},
   "source": [
    "If the order is not relevant, you can make the code shorter by using the set data type"
   ]
  },
  {
   "cell_type": "code",
   "execution_count": 10,
   "metadata": {},
   "outputs": [
    {
     "name": "stdout",
     "output_type": "stream",
     "text": [
      "[1, 5]\n"
     ]
    }
   ],
   "source": [
    "data_a = set([1, 2, 3, 4, 5, 6])\n",
    "data_b = set([1, 5, 7, 8, 9])\n",
    "\n",
    "a_and_b = data_a.intersection(data_b)\n",
    "print(list(a_and_b))"
   ]
  },
  {
   "cell_type": "markdown",
   "metadata": {},
   "source": [
    "### 6.3.3 Differences between Two Data Sets"
   ]
  },
  {
   "cell_type": "code",
   "execution_count": 13,
   "metadata": {},
   "outputs": [
    {
     "name": "stdout",
     "output_type": "stream",
     "text": [
      "[2, 3, 4, 6]\n",
      "[7, 8, 9]\n"
     ]
    }
   ],
   "source": [
    "data_a = [1, 2, 3, 4, 5, 6]\n",
    "data_b = [1, 5, 7, 8, 9]\n",
    "a_not_b = []\n",
    "b_not_a = []\n",
    "\n",
    "for num in data_a:\n",
    "    if num not in data_b:\n",
    "        a_not_b.append(num)\n",
    "\n",
    "for num in data_b:\n",
    "    if num not in data_a:\n",
    "        b_not_a.append(num)\n",
    "\n",
    "print(a_not_b)\n",
    "print(b_not_a)"
   ]
  },
  {
   "cell_type": "code",
   "execution_count": 17,
   "metadata": {},
   "outputs": [
    {
     "name": "stdout",
     "output_type": "stream",
     "text": [
      "{2, 3, 4, 6}\n",
      "{8, 9, 7}\n"
     ]
    }
   ],
   "source": [
    "data_a = set([1, 2, 3, 4, 5, 6])\n",
    "data_b = set([1, 5, 7, 8, 9])\n",
    "\n",
    "a_not_b = data_a.difference(data_b)\n",
    "b_not_a = data_b.difference(data_a)\n",
    "print(a_not_b)\n",
    "print(b_not_a)"
   ]
  },
  {
   "cell_type": "markdown",
   "metadata": {},
   "source": [
    "### 6.3.4 Removing from Lists, Dictionaries, and Files\n",
    "Deleting Particular Lines from a Text File"
   ]
  },
  {
   "cell_type": "code",
   "execution_count": 18,
   "metadata": {},
   "outputs": [],
   "source": [
    "line = open(os.path.join(PROJECT_ROOT_DIR,\"text.txt\"),\"r\").readlines()\n",
    "open(os.path.join(PROJECT_ROOT_DIR,\"new.txt\"),\"w\").writelines(line[2:4]+line[6:])"
   ]
  },
  {
   "cell_type": "code",
   "execution_count": 19,
   "metadata": {},
   "outputs": [],
   "source": [
    "in_file = open(os.path.join(PROJECT_ROOT_DIR,\"text.txt\"),\"r\")\n",
    "out_file = open(os.path.join(PROJECT_ROOT_DIR,\"new.txt\"),\"w\")\n",
    "index = 0\n",
    "indices_to_remove = [1,2,5,6]\n",
    "for line in in_file:\n",
    "    index += 1\n",
    "    if index not in indices_to_remove:\n",
    "        out_file.write(line)\n",
    "\n",
    "out_file.close()"
   ]
  },
  {
   "cell_type": "code",
   "execution_count": 20,
   "metadata": {},
   "outputs": [],
   "source": [
    "out_file = open(os.path.join(PROJECT_ROOT_DIR,\"new.txt\"),\"w\")\n",
    "indices_to_remove = [1,2,5,6]\n",
    "\n",
    "for index,line in enumerate(open(os.path.join(PROJECT_ROOT_DIR,\"text.txt\"),\"r\")):\n",
    "    if (index+1) not in indices_to_remove:\n",
    "        out_file.write(line)\n",
    "out_file.close()"
   ]
  },
  {
   "cell_type": "markdown",
   "metadata": {},
   "source": [
    "### 6.3.5 Removing Duplicates Preserving and Not Preserving Order"
   ]
  },
  {
   "cell_type": "markdown",
   "metadata": {},
   "source": [
    "**Selectively Remove Duplicate Records from a Text File Preserving Order**"
   ]
  },
  {
   "cell_type": "code",
   "execution_count": 23,
   "metadata": {},
   "outputs": [],
   "source": [
    "input_file = open(os.path.join(PROJECT_ROOT_DIR,\"UniprotID.txt\"),\"r\")\n",
    "output_file = open(os.path.join(PROJECT_ROOT_DIR,\"UniprotID-unique.txt\"),\"w\")\n",
    "unique = []\n",
    "\n",
    "for line in input_file:\n",
    "    if line not in unique:\n",
    "        output_file.write(line)\n",
    "        unique.append(line)\n",
    "output_file.close()"
   ]
  },
  {
   "cell_type": "markdown",
   "metadata": {},
   "source": [
    "** Selectively Remove Duplicate Records from a Text File without Preserving Order **"
   ]
  },
  {
   "cell_type": "code",
   "execution_count": 25,
   "metadata": {},
   "outputs": [],
   "source": [
    "input_file = open(os.path.join(PROJECT_ROOT_DIR,\"UniprotID.txt\"),\"r\")\n",
    "output_file = open(os.path.join(PROJECT_ROOT_DIR,\"UniprotID-unique.txt\"),\"w\")\n",
    "unique = set(input_file)\n",
    "for line in unique:\n",
    "    output_file.write(line)"
   ]
  },
  {
   "cell_type": "markdown",
   "metadata": {},
   "source": [
    "** How to Remove Sequences with More Than 90% Identity **"
   ]
  },
  {
   "cell_type": "markdown",
   "metadata": {},
   "source": [
    "** CD-HIT (CLUSTER DATABASE AT HIGH IDENTITY WITH TOLERANCE) **\n",
    "\n",
    "    cd-hit -i redundant_set -o nr-90 -c 0.9 -n 5"
   ]
  },
  {
   "cell_type": "markdown",
   "metadata": {},
   "source": [
    "## 6.4 EXAMPLES  "
   ]
  },
  {
   "cell_type": "markdown",
   "metadata": {},
   "source": [
    "### Example 6.1 Comparing More Than Two Sets of Data"
   ]
  },
  {
   "cell_type": "code",
   "execution_count": 28,
   "metadata": {},
   "outputs": [
    {
     "name": "stdout",
     "output_type": "stream",
     "text": [
      "{1, 4}\n"
     ]
    }
   ],
   "source": [
    "from functools import reduce\n",
    "\n",
    "a = set((1,2,3,4,5))\n",
    "b = set((2, 4, 6, 7, 1))\n",
    "c = set((1, 4, 5, 9))\n",
    "\n",
    "triple_set = [a,b,c]\n",
    "common = reduce(set.intersection,triple_set)\n",
    "print(common)"
   ]
  },
  {
   "cell_type": "code",
   "execution_count": 34,
   "metadata": {},
   "outputs": [
    {
     "name": "stdout",
     "output_type": "stream",
     "text": [
      "24\n"
     ]
    }
   ],
   "source": [
    "multiply = lambda x,y:x*y\n",
    "\n",
    "print(reduce(multiply,(1,2,3,4)))"
   ]
  },
  {
   "cell_type": "code",
   "execution_count": 35,
   "metadata": {},
   "outputs": [
    {
     "data": {
      "text/plain": [
       "24"
      ]
     },
     "execution_count": 35,
     "metadata": {},
     "output_type": "execute_result"
    }
   ],
   "source": [
    "multiply(4,6)"
   ]
  },
  {
   "cell_type": "markdown",
   "metadata": {},
   "source": [
    "### Example 6.2 Compare/Update Different Releases of a Database"
   ]
  },
  {
   "cell_type": "code",
   "execution_count": 36,
   "metadata": {},
   "outputs": [
    {
     "name": "stdout",
     "output_type": "stream",
     "text": [
      "New entries ['n', 'p', 'q', 's', 'o', 'r', 'm']\n",
      "Deprecated entries ['c']\n",
      "Unique entries ['n', 'p', 'q', 's', 'o', 'c', 'r', 'm']\n"
     ]
    }
   ],
   "source": [
    "# read old database release\n",
    "old_db = set()\n",
    "for line in open(os.path.join(PROJECT_ROOT_DIR,\"list_old.txt\"),\"r\"):\n",
    "    accession = line.strip()\n",
    "    old_db.add(accession)\n",
    "#read new database release\n",
    "new_db = set()\n",
    "for line in open(os.path.join(PROJECT_ROOT_DIR,\"list_new.txt\"),\"r\"):\n",
    "    accession = line.strip()\n",
    "    new_db.add(accession)\n",
    "\n",
    "# Report different\n",
    "new_entries = new_db.difference(old_db)\n",
    "print(\"New entries\",list(new_entries))\n",
    "old_entries = old_db.difference(new_db)\n",
    "print(\"Deprecated entries\",list(old_entries))\n",
    "unique_entries = new_db.symmetric_difference(old_db)\n",
    "print(\"Unique entries\",list(unique_entries))"
   ]
  },
  {
   "cell_type": "markdown",
   "metadata": {},
   "source": [
    "# 6.5 TESTING YOURSELF"
   ]
  },
  {
   "cell_type": "markdown",
   "metadata": {},
   "source": [
    "## Exercise 6.1 Copy Only Selected FASTA Records to a File\n",
    "\n",
    "Read a multiple sequence FASTA file and copy to a new file the ID (one per line) of the sequences starting with a methionine.\n",
    "\n",
    "**Hint**: You can use what you learned in Chapter 4 about FASTA file parsing.\n",
    "\n",
    "**Hint**: Since you have to check the type of the first residue, you need to collect not the whole sequence of each record but just its first character."
   ]
  },
  {
   "cell_type": "code",
   "execution_count": 39,
   "metadata": {},
   "outputs": [],
   "source": [
    "output_file = open(os.path.join(PROJECT_ROOT_DIR,\"Startwith_M.fasta\"),\"w\")\n",
    "seq = ''\n",
    "\n",
    "for line in open(os.path.join(PROJECT_ROOT_DIR,\"SwissProt.fasta\"),\"r\"):\n",
    "    if line.startswith(\">\") and seq == '':\n",
    "        ac = line.split(\"|\")[1]\n",
    "    elif not line.startswith(\">\"):\n",
    "        seq += line\n",
    "    elif line.startswith(\">\") and seq != '':\n",
    "        if seq.startswith(\"M\"):\n",
    "            output_file.write(ac)\n",
    "        ac = line.split(\"|\")[1]\n",
    "        seq = ''\n",
    "        \n",
    "output_file.close()"
   ]
  },
  {
   "cell_type": "markdown",
   "metadata": {},
   "source": [
    "## Exercise 6.2\n",
    "\n",
    "Remove the even (or the odd) lines from a text file of your choice.\n",
    "\n",
    "**Hint**: You can use the % operator, which returns the remainder of a division:\n",
    "\n",
    "    >>> 7%2\n",
    "    1\n",
    "\n",
    "If you use a line counter, the remainder of the division by 2 will be 0 for even lines (and 1 for odd lines)."
   ]
  },
  {
   "cell_type": "code",
   "execution_count": 46,
   "metadata": {},
   "outputs": [
    {
     "name": "stdout",
     "output_type": "stream",
     "text": [
      "0\n",
      "2\n",
      "4\n",
      "6\n",
      "8\n"
     ]
    }
   ],
   "source": [
    "x = list(range(10))\n",
    "for i,j in enumerate(x):\n",
    "    if i%2==0:  #print odd line\n",
    "        print(j)"
   ]
  },
  {
   "cell_type": "code",
   "execution_count": 45,
   "metadata": {},
   "outputs": [
    {
     "data": {
      "text/plain": [
       "1"
      ]
     },
     "execution_count": 45,
     "metadata": {},
     "output_type": "execute_result"
    }
   ],
   "source": [
    "5%2"
   ]
  },
  {
   "cell_type": "markdown",
   "metadata": {},
   "source": [
    "## Exercise 6.3 Finding Differences between Files Having the Same Number of Lines\n",
    "\n",
    "Write a program that reads two text files and prints their differences (line by line).\n",
    "\n",
    "**Hint**: Use the file method readlines() to put the lines of each file into a list. If you do this separately for the two files you want to compare, you will end up with two lists. Use counters to count how many lines (i.e., list elements) are identical in the two files (i.e., in the two lists), how many are present in the first file and absent in the second, and vice versa.\n",
    "\n",
    "## Exercise 6.4 A More Sophisticated Way of Printing Differences between Files \n",
    "\n",
    "Implement the program of Exercise 6.3 in order to print lines present in the first file and absent in the second preceded by a “>”, lines present in the second and absent in the first preceded by a “<”, and lines present in both files preceded by a “#”.\n",
    "\n",
    "## Exercise 6.5 A Further Filter for Transcripts\n",
    "\n",
    "Modify the Python session in Section 6.2.2 to retain only transcripts that are expressed in at least three samples, regardless if WT or T."
   ]
  },
  {
   "cell_type": "code",
   "execution_count": null,
   "metadata": {},
   "outputs": [],
   "source": []
  }
 ],
 "metadata": {
  "kernelspec": {
   "display_name": "Python 3",
   "language": "python",
   "name": "python3"
  },
  "language_info": {
   "codemirror_mode": {
    "name": "ipython",
    "version": 3
   },
   "file_extension": ".py",
   "mimetype": "text/x-python",
   "name": "python",
   "nbconvert_exporter": "python",
   "pygments_lexer": "ipython3",
   "version": "3.6.3"
  }
 },
 "nbformat": 4,
 "nbformat_minor": 2
}
