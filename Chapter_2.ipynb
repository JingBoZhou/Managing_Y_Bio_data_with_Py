{
 "cells": [
  {
   "cell_type": "markdown",
   "metadata": {},
   "source": [
    "# Chapter 2 Your First Python Program"
   ]
  },
  {
   "cell_type": "markdown",
   "metadata": {},
   "source": [
    "## CALCULATE THE AMINO ACID FREQUENCY IN THE SEQUENCE OF INSULIN"
   ]
  },
  {
   "cell_type": "code",
   "execution_count": 1,
   "metadata": {},
   "outputs": [
    {
     "name": "stdout",
     "output_type": "stream",
     "text": [
      "A 10\n",
      "C 6\n",
      "D 2\n",
      "E 8\n",
      "F 3\n",
      "G 12\n",
      "H 2\n",
      "I 2\n",
      "K 2\n",
      "L 20\n",
      "M 2\n",
      "N 3\n",
      "P 6\n",
      "Q 7\n",
      "R 5\n",
      "S 5\n",
      "T 3\n",
      "V 6\n",
      "W 2\n",
      "Y 4\n"
     ]
    }
   ],
   "source": [
    "from __future__ import print_function,division,unicode_literals\n",
    "# insulin [Homo sapiens] GI:386828\n",
    "#https://www.ncbi.nlm.nih.gov/protein/AAA59172.1?report=fasta\n",
    "insulin = 'MALWMRLLPLLALLALWGPDPAAAFVNQHLCGSHLVEALYLVCGERGFFYTPKTRREAEDLQVGQVELGGGPGAGSLQPLALEGSLQKRGIVEQCCTSICSLYQLENYCN'\n",
    "\n",
    "for amino_acid in 'ACDEFGHIKLMNPQRSTVWY':\n",
    "    number = insulin.count(amino_acid)\n",
    "    print(amino_acid,number)"
   ]
  },
  {
   "cell_type": "code",
   "execution_count": 2,
   "metadata": {},
   "outputs": [
    {
     "data": {
      "text/plain": [
       "20"
      ]
     },
     "execution_count": 2,
     "metadata": {},
     "output_type": "execute_result"
    }
   ],
   "source": [
    "len('ACDEFGHIKLMNPQRSTVWY')"
   ]
  },
  {
   "cell_type": "markdown",
   "metadata": {},
   "source": [
    "## Create a Random Sequence"
   ]
  },
  {
   "cell_type": "code",
   "execution_count": 3,
   "metadata": {},
   "outputs": [
    {
     "name": "stdout",
     "output_type": "stream",
     "text": [
      "TTTACTGTTT\n"
     ]
    }
   ],
   "source": [
    "import random\n",
    "\n",
    "alphabet = \"AGCT\"\n",
    "sequence = \"\"\n",
    "\n",
    "for i in range(10):\n",
    "    index = random.randint(0,3)\n",
    "    sequence += alphabet[index]\n",
    "print(sequence)\n",
    "\n"
   ]
  },
  {
   "cell_type": "code",
   "execution_count": 3,
   "metadata": {},
   "outputs": [
    {
     "name": "stdout",
     "output_type": "stream",
     "text": [
      "GGTGTCCTGC\n"
     ]
    }
   ],
   "source": [
    "import random\n",
    "\n",
    "def random_sequence(alphabet,number):\n",
    "    return ''.join(random.choice(alphabet) for _ in range(number))\n",
    "print(random_sequence(\"AGCT\",10))"
   ]
  },
  {
   "cell_type": "markdown",
   "metadata": {},
   "source": [
    "## Run a Sliding Window over a Sequence"
   ]
  },
  {
   "cell_type": "code",
   "execution_count": 4,
   "metadata": {},
   "outputs": [
    {
     "name": "stdout",
     "output_type": "stream",
     "text": [
      "TTTAC\n",
      "TTACT\n",
      "TACTG\n",
      "ACTGT\n",
      "CTGTT\n",
      "TGTTT\n"
     ]
    }
   ],
   "source": [
    "for i in range(len(sequence)-4):\n",
    "    print(sequence[i:i+5])"
   ]
  },
  {
   "cell_type": "markdown",
   "metadata": {},
   "source": [
    "# TESTING"
   ]
  },
  {
   "cell_type": "markdown",
   "metadata": {
    "collapsed": true
   },
   "source": [
    "## Frequency of Amino Acids in the Telomerase Protein Sequence"
   ]
  },
  {
   "cell_type": "markdown",
   "metadata": {},
   "source": [
    "In 2009, Elizabeth H. Blackburn, Carol W. Greider, and Jack W. Szostak received the Noble Prize for discovering the function of the enzyme telomerase, which is responsible for extending the ends of chromosomes. Retrieve the 1,132-residue sequence of isoform 1 of human telomerase from the NCBI protein database. Which amino acid is the most frequent?"
   ]
  },
  {
   "cell_type": "code",
   "execution_count": 8,
   "metadata": {
    "collapsed": true
   },
   "outputs": [],
   "source": [
    "# https://www.ncbi.nlm.nih.gov/protein/NP_937983.2?report=fasta\n",
    "tel_pro_seq_raw = \"\"\"MPRAPRCRAVRSLLRSHYREVLPLATFVRRLGPQGWRLVQRGDPAAFRALVAQCLVCVPWDARPPPAAPS\n",
    "FRQVSCLKELVARVLQRLCERGAKNVLAFGFALLDGARGGPPEAFTTSVRSYLPNTVTDALRGSGAWGLL\n",
    "LRRVGDDVLVHLLARCALFVLVAPSCAYQVCGPPLYQLGAATQARPPPHASGPRRRLGCERAWNHSVREA\n",
    "GVPLGLPAPGARRRGGSASRSLPLPKRPRRGAAPEPERTPVGQGSWAHPGRTRGPSDRGFCVVSPARPAE\n",
    "EATSLEGALSGTRHSHPSVGRQHHAGPPSTSRPPRPWDTPCPPVYAETKHFLYSSGDKEQLRPSFLLSSL\n",
    "RPSLTGARRLVETIFLGSRPWMPGTPRRLPRLPQRYWQMRPLFLELLGNHAQCPYGVLLKTHCPLRAAVT\n",
    "PAAGVCAREKPQGSVAAPEEEDTDPRRLVQLLRQHSSPWQVYGFVRACLRRLVPPGLWGSRHNERRFLRN\n",
    "TKKFISLGKHAKLSLQELTWKMSVRDCAWLRRSPGVGCVPAAEHRLREEILAKFLHWLMSVYVVELLRSF\n",
    "FYVTETTFQKNRLFFYRKSVWSKLQSIGIRQHLKRVQLRELSEAEVRQHREARPALLTSRLRFIPKPDGL\n",
    "RPIVNMDYVVGARTFRREKRAERLTSRVKALFSVLNYERARRPGLLGASVLGLDDIHRAWRTFVLRVRAQ\n",
    "DPPPELYFVKVDVTGAYDTIPQDRLTEVIASIIKPQNTYCVRRYAVVQKAAHGHVRKAFKSHVSTLTDLQ\n",
    "PYMRQFVAHLQETSPLRDAVVIEQSSSLNEASSGLFDVFLRFMCHHAVRIRGKSYVQCQGIPQGSILSTL\n",
    "LCSLCYGDMENKLFAGIRRDGLLLRLVDDFLLVTPHLTHAKTFLRTLVRGVPEYGCVVNLRKTVVNFPVE\n",
    "DEALGGTAFVQMPAHGLFPWCGLLLDTRTLEVQSDYSSYARTSIRASLTFNRGFKAGRNMRRKLFGVLRL\n",
    "KCHSLFLDLQVNSLQTVCTNIYKILLLQAYRFHACVLQLPFHQQVWKNPTFFLRVISDTASLCYSILKAK\n",
    "NAGMSLGAKGAAGPLPSEAVQWLCHQAFLLKLTRHRVTYVPLLGSLRTAQTQLSRKLPGTTLTALEAAAN\n",
    "PALPSDFKTILD\"\"\"\n",
    "tel_pro_seq = ''.join(tel_pro_seq_raw.split('\\n'))"
   ]
  },
  {
   "cell_type": "code",
   "execution_count": 9,
   "metadata": {},
   "outputs": [
    {
     "name": "stdout",
     "output_type": "stream",
     "text": [
      "A 99\n",
      "C 29\n",
      "D 34\n",
      "E 45\n",
      "F 47\n",
      "G 75\n",
      "H 34\n",
      "I 23\n",
      "K 40\n",
      "L 147\n",
      "M 12\n",
      "N 21\n",
      "P 87\n",
      "Q 47\n",
      "R 125\n",
      "S 75\n",
      "T 58\n",
      "V 88\n",
      "W 18\n",
      "Y 28\n"
     ]
    }
   ],
   "source": [
    "for amino_acid in 'ACDEFGHIKLMNPQRSTVWY':\n",
    "    numbers = tel_pro_seq.count(amino_acid)\n",
    "    print(amino_acid,numbers)"
   ]
  },
  {
   "cell_type": "markdown",
   "metadata": {
    "collapsed": true
   },
   "source": [
    "## Frequency of Nucleotide Bases in a DNA Sequence"
   ]
  },
  {
   "cell_type": "markdown",
   "metadata": {},
   "source": [
    "Change the program from Exercise 2.1 to count the frequency of the four DNA bases instead. Test it first with a DNA sequence for which you know the result, for instance, “AAAACCCGGT”. This approach makes it much easier to discover small program errors."
   ]
  },
  {
   "cell_type": "code",
   "execution_count": 10,
   "metadata": {},
   "outputs": [
    {
     "name": "stdout",
     "output_type": "stream",
     "text": [
      "A 4\n",
      "G 2\n",
      "C 3\n",
      "T 1\n"
     ]
    }
   ],
   "source": [
    "line = \"AAAACCCGGT\"\n",
    "\n",
    "for dna in 'AGCT':\n",
    "    dna_number = line.count(dna)\n",
    "    print(dna,dna_number)"
   ]
  },
  {
   "cell_type": "markdown",
   "metadata": {},
   "source": [
    "## Print an Amino Acid Sequence One Residue at a Time"
   ]
  },
  {
   "cell_type": "markdown",
   "metadata": {},
   "source": [
    "Write a program that prints the first amino acid of the insulin sequence, then the first two, then the first three, and so on. You will need both the range() and the len() functions."
   ]
  },
  {
   "cell_type": "code",
   "execution_count": 1,
   "metadata": {},
   "outputs": [],
   "source": [
    "insulin = 'MALWMRLLPLLALLALWGPDPAAAFVNQHLCGSHLVEALYLVCGERGFFYTPKTRREAEDLQVGQVELGGGPGAGSLQPLALEGSLQKRGIVEQCCTSICSLYQLENYCN'\n",
    "\n",
    "seq1 = ''\n",
    "for letter in range(len(insulin)):\n",
    "    seq1 += insulin[letter]\n",
    "    #print(seq1)\n",
    "\n",
    "seq2 = ''\n",
    "for letter in insulin:\n",
    "    seq2 += letter\n",
    "    #print(seq2)"
   ]
  },
  {
   "cell_type": "markdown",
   "metadata": {},
   "source": [
    "## Removing Indentation"
   ]
  },
  {
   "cell_type": "markdown",
   "metadata": {},
   "source": [
    "In the example program in Section 2.2.2 for counting amino acids, replace the line\n",
    "\n",
    "    print amino_acid, number\n",
    "with\n",
    "    \n",
    "    print amino_acid, number,\n",
    "Run the program again. Explain what happens."
   ]
  },
  {
   "cell_type": "code",
   "execution_count": 1,
   "metadata": {},
   "outputs": [
    {
     "name": "stdout",
     "output_type": "stream",
     "text": [
      "A 10 C 6 D 2 E 8 F 3 G 12 H 2 I 2 K 2 L 20 M 2 N 3 P 6 Q 7 R 5 S 5 T 3 V 6 W 2 Y 4\n"
     ]
    }
   ],
   "source": [
    "insulin = 'MALWMRLLPLLALLALWGPDPAAAFVNQHLCGSHLVEALYLVCGERGFFYTPKTRREAEDLQVGQVELGGGPGAGSLQPLALEGSLQKRGIVEQCCTSICSLYQLENYCN'\n",
    "\n",
    "for amino_acid in 'ACDEFGHIKLMNPQRSTVWY':\n",
    "    number = insulin.count(amino_acid)\n",
    "    print amino_acid, number,"
   ]
  },
  {
   "cell_type": "code",
   "execution_count": null,
   "metadata": {
    "collapsed": true
   },
   "outputs": [],
   "source": []
  }
 ],
 "metadata": {
  "kernelspec": {
   "display_name": "Python 3",
   "language": "python",
   "name": "python3"
  },
  "language_info": {
   "codemirror_mode": {
    "name": "ipython",
    "version": 3
   },
   "file_extension": ".py",
   "mimetype": "text/x-python",
   "name": "python",
   "nbconvert_exporter": "python",
   "pygments_lexer": "ipython3",
   "version": "3.6.3"
  }
 },
 "nbformat": 4,
 "nbformat_minor": 2
}
