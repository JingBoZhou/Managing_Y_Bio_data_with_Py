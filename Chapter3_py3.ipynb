{
 "cells": [
  {
   "cell_type": "markdown",
   "metadata": {},
   "source": [
    "# Chapter 3 Analyzing a Data Column\n",
    "# 第三章 分析数据列"
   ]
  },
  {
   "cell_type": "markdown",
   "metadata": {},
   "source": [
    "## 3.2 STORY: DENDRITIC LENGTHS\n",
    "## 3.2 案例：树突长度"
   ]
  },
  {
   "cell_type": "code",
   "execution_count": 1,
   "metadata": {},
   "outputs": [],
   "source": [
    "# Common imports\n",
    "import numpy as np\n",
    "import os\n",
    "# Where to save the data\n",
    "PROJECT_ROOT_DIR = \"./data/chap_3/\""
   ]
  },
  {
   "cell_type": "code",
   "execution_count": 16,
   "metadata": {},
   "outputs": [],
   "source": [
    "neuron_data = [16.38, 139.90, 441.46, 29.03, 40.93, 202.07, 142.30, \\\n",
    "346.00, 300.00]\n",
    "open(os.path.join(PROJECT_ROOT_DIR,\"neuron_data.txt\"),\"w\").writelines([str(i)+'\\n' for i in neuron_data])"
   ]
  },
  {
   "cell_type": "code",
   "execution_count": 7,
   "metadata": {},
   "outputs": [
    {
     "data": {
      "text/plain": [
       "[1, 2, 3, 4]"
      ]
     },
     "execution_count": 7,
     "metadata": {},
     "output_type": "execute_result"
    }
   ],
   "source": [
    "a = [2,3,4,1]\n",
    "a.sort()\n",
    "a"
   ]
  },
  {
   "cell_type": "markdown",
   "metadata": {},
   "source": [
    "### 3.2.2 Example Python Session\n",
    "### 3.3.2 Python会话示例"
   ]
  },
  {
   "cell_type": "code",
   "execution_count": 17,
   "metadata": {},
   "outputs": [],
   "source": [
    "data = []\n",
    "\n",
    "for line in open(os.path.join(PROJECT_ROOT_DIR,\"neuron_data.txt\"),\"r\"):\n",
    "    length = float(line.strip())\n",
    "    data.append(length)\n",
    "\n",
    "n_items = len(data)\n",
    "total = sum(data)\n",
    "shortest = min(data)\n",
    "longest = max(data)\n",
    "data.sort()\n",
    "\n",
    "output = open(os.path.join(PROJECT_ROOT_DIR,\"results.txt\"),\"w\")\n",
    "output.write(\"number of dendritic lengths : %4i \\n\"%(n_items))\n",
    "output.write(\"total dendritic length : %6.1f \\n\"%(total))\n",
    "output.write(\"shortest dendritic length : %7.2f \\n\"%(shortest))\n",
    "output.write(\"longest dendritic length : %7.2f \\n\"%(longest))\n",
    "output.write(\"%37.2f\\n%37.2f\"%(data[-2], data[-3]))\n",
    "output.close()"
   ]
  },
  {
   "cell_type": "markdown",
   "metadata": {},
   "source": [
    "## Example 3.1 How to Calculate a Mean Value\n",
    "## 例3.1： 如何计算平均值"
   ]
  },
  {
   "cell_type": "markdown",
   "metadata": {},
   "source": [
    "$$\\mu = \\cfrac{1}{N} \\sum_{i=1}^N x_i$$"
   ]
  },
  {
   "cell_type": "code",
   "execution_count": 21,
   "metadata": {},
   "outputs": [
    {
     "name": "stdout",
     "output_type": "stream",
     "text": [
      "3.532 3.532\n"
     ]
    }
   ],
   "source": [
    "import numpy as np\n",
    "\n",
    "data = [3.53, 3.47, 3.51, 3.72, 3.43]\n",
    "average = np.average(data)\n",
    "print(average)"
   ]
  },
  {
   "cell_type": "markdown",
   "metadata": {},
   "source": [
    "## Example 3.2 How to Calculate a Standard Deviation\n",
    "## 例3.2： 如何计算标准差"
   ]
  },
  {
   "cell_type": "markdown",
   "metadata": {},
   "source": [
    "$$\\sigma = \\sqrt{\\cfrac{1}{N} \\sum_{i=1}^N (x_i - \\mu)^2}$$"
   ]
  },
  {
   "cell_type": "code",
   "execution_count": 23,
   "metadata": {},
   "outputs": [
    {
     "name": "stdout",
     "output_type": "stream",
     "text": [
      "0.100079968026\n"
     ]
    }
   ],
   "source": [
    "import numpy as np\n",
    "\n",
    "data = [3.53, 3.47, 3.51, 3.72, 3.43]\n",
    "stddev = np.std(data)\n",
    "print(stddev)"
   ]
  },
  {
   "cell_type": "markdown",
   "metadata": {},
   "source": [
    "## Example 3.3 How to Calculate a Median Value\n",
    "## 例3.3： 如何计算中位数"
   ]
  },
  {
   "cell_type": "code",
   "execution_count": 25,
   "metadata": {},
   "outputs": [
    {
     "name": "stdout",
     "output_type": "stream",
     "text": [
      "3.51\n"
     ]
    }
   ],
   "source": [
    "import numpy as np\n",
    "\n",
    "data = [3.53, 3.47, 3.51, 3.72, 3.43]\n",
    "median = np.median(data)\n",
    "print(median)"
   ]
  },
  {
   "cell_type": "markdown",
   "metadata": {},
   "source": [
    "## 3.5 TESTING YOURSELF\n",
    "## 3.5 自测题"
   ]
  },
  {
   "cell_type": "markdown",
   "metadata": {},
   "source": [
    "### Exercise 3.1 Read and Write a File\n",
    "### 3.1 读取和写入文件"
   ]
  },
  {
   "cell_type": "markdown",
   "metadata": {},
   "source": [
    "Write a program that reads the file with neuron lengths and saves an identical copy of the file."
   ]
  },
  {
   "cell_type": "code",
   "execution_count": 37,
   "metadata": {},
   "outputs": [
    {
     "name": "stdout",
     "output_type": "stream",
     "text": [
      "['16.38\\n', '139.9\\n', '441.46\\n', '29.03\\n', '40.93\\n', '202.07\\n', '142.3\\n', '346.0\\n', '300.0\\n']\n"
     ]
    }
   ],
   "source": [
    "with open(os.path.join(PROJECT_ROOT_DIR,\"neuron_data.txt\"),\"r\") as f:\n",
    "    l = f.readlines()\n",
    "    print(l)\n",
    "    open(os.path.join(PROJECT_ROOT_DIR,\"neuron_data_bak.txt\"),\"w\").write(\"Length is : %3i \\n\" % len(l))"
   ]
  },
  {
   "cell_type": "markdown",
   "metadata": {},
   "source": [
    "### Exercise 3.2 Calculate Average and Standard Deviation\n",
    "### 3.2 计算平均值和标准差\n",
    "Extend the example in Section 3.2.2 so that it calculates the average neuron\n",
    "length and standard deviation."
   ]
  },
  {
   "cell_type": "code",
   "execution_count": 40,
   "metadata": {},
   "outputs": [
    {
     "name": "stdout",
     "output_type": "stream",
     "text": [
      "Average neuron length is: 3.532 \t Standard deviation is: 0.100079968026\n"
     ]
    }
   ],
   "source": [
    "import numpy as np\n",
    "\n",
    "neuron_data = [16.38, 139.90, 441.46, 29.03, 40.93, 202.07, 142.30, \\\n",
    "346.00, 300.00]\n",
    "average = np.average(data)\n",
    "stddev = np.std(data)\n",
    "print(\"Average neuron length is:\",average, \"\\t\",\"Standard deviation is:\",stddev)"
   ]
  },
  {
   "cell_type": "markdown",
   "metadata": {},
   "source": [
    "### Exercise 3.3 Frequency of Nucleotides\n",
    "### 3.3 核苷酸的频率\n",
    "\n",
    "Write a program that reads a DNA sequence from a plain text file. Count the frequency of each base. The program has to determine how often the most frequent base occurs.\n",
    "\n",
    "**Hint**: You don’t have to identify which base it is."
   ]
  },
  {
   "cell_type": "code",
   "execution_count": 23,
   "metadata": {},
   "outputs": [
    {
     "name": "stdout",
     "output_type": "stream",
     "text": [
      "The number of A is 954\n",
      "The number of T is 1131\n",
      "The number of C is 1729\n",
      "The number of G is 1677\n",
      "The most nucletodie is C(1729)\n"
     ]
    }
   ],
   "source": [
    "seq = ''\n",
    "d ={}\n",
    "\n",
    "with open(os.path.join(PROJECT_ROOT_DIR,\"dna_example.fasta\"),\"r\") as f:\n",
    "    f.readline()\n",
    "    for line in f:\n",
    "        seq +=  ''.join(line.strip())\n",
    "\n",
    "for nucleotide in \"ATCG\":\n",
    "    number = seq.count(nucleotide)\n",
    "    d[number] = nucleotide\n",
    "    print(\"The number of %s is %d\" % (nucleotide,number))\n",
    "\n",
    "print(\"The most nucletodie is %s(%d)\" %(d[sorted(d.keys())[-1]],sorted(d.keys())[-1]))   "
   ]
  },
  {
   "cell_type": "code",
   "execution_count": 33,
   "metadata": {},
   "outputs": [
    {
     "name": "stdout",
     "output_type": "stream",
     "text": [
      "The number of G is 1677\n",
      "The number of A is 954\n",
      "The number of T is 1131\n",
      "The number of C is 1729\n",
      "The most nucletodie is C(1729)\n"
     ]
    }
   ],
   "source": [
    "from collections import Counter\n",
    "\n",
    "count = Counter(seq)\n",
    "for k,v in count.items():\n",
    "    print(\"The number of %s is %d\" % (k,v))\n",
    "\n",
    "print(\"The most nucletodie is %s(%d)\" %sorted(count.items(), key=lambda d:d[1], reverse=True)[0])"
   ]
  },
  {
   "cell_type": "markdown",
   "metadata": {},
   "source": [
    "### Exercise 3.4 GC-Content from a DNA Sequence\n",
    "### 3.4 DNA序列的GC含量\n",
    "\n",
    "Write a program that calculates the GC-content of a DNA sequence from a plain text file."
   ]
  },
  {
   "cell_type": "code",
   "execution_count": 4,
   "metadata": {},
   "outputs": [
    {
     "name": "stdout",
     "output_type": "stream",
     "text": [
      "The GC-content is 62.029%\n"
     ]
    }
   ],
   "source": [
    "with open(os.path.join(PROJECT_ROOT_DIR,\"dna_example.fasta\"),\"r\") as f:\n",
    "    for line in f:\n",
    "        if line.startswith(\">\"):\n",
    "            pass\n",
    "        else:\n",
    "            seq += ''.join(line.strip())\n",
    "\n",
    "length = len(seq)\n",
    "G = seq.count(\"G\")\n",
    "C = seq.count(\"C\")\n",
    "\n",
    "GC_content = (G+C) / length  \n",
    "print(\"The GC-content is %5.3f%%\"%(GC_content * 100))"
   ]
  },
  {
   "cell_type": "code",
   "execution_count": 15,
   "metadata": {},
   "outputs": [
    {
     "name": "stdout",
     "output_type": "stream",
     "text": [
      "The GC-content is 62.029%\n"
     ]
    }
   ],
   "source": [
    "from collections import Counter\n",
    "\n",
    "counts = Counter(seq)\n",
    "print(\"The GC-content is %5.3f%%\"%((counts['C']+ counts[\"G\"]) /  sum(counts.values()) * 100))"
   ]
  },
  {
   "cell_type": "code",
   "execution_count": 17,
   "metadata": {},
   "outputs": [
    {
     "data": {
      "text/plain": [
       "[2862, 3393, 5031, 5187]"
      ]
     },
     "execution_count": 17,
     "metadata": {},
     "output_type": "execute_result"
    }
   ],
   "source": [
    "sorted(counts.values())"
   ]
  },
  {
   "cell_type": "code",
   "execution_count": 61,
   "metadata": {
    "scrolled": true
   },
   "outputs": [
    {
     "name": "stdout",
     "output_type": "stream",
     "text": [
      "16.38\n",
      "\n",
      "139.9\n",
      "\n",
      "441.46\n",
      "\n",
      "29.03\n",
      "\n",
      "40.93\n",
      "\n",
      "202.07\n",
      "\n",
      "142.3\n",
      "\n",
      "346.0\n",
      "\n",
      "300.0\n",
      "\n"
     ]
    }
   ],
   "source": [
    "f = open(os.path.join(PROJECT_ROOT_DIR,\"neuron_data.txt\"),\"r\")\n",
    "\n",
    "while True:\n",
    "    try:\n",
    "        print(next(f))\n",
    "    \n",
    "    except StopIteration:\n",
    "        break"
   ]
  },
  {
   "cell_type": "code",
   "execution_count": 62,
   "metadata": {},
   "outputs": [
    {
     "name": "stdout",
     "output_type": "stream",
     "text": [
      "16.38\n",
      "\n",
      "139.9\n",
      "\n",
      "441.46\n",
      "\n",
      "29.03\n",
      "\n",
      "40.93\n",
      "\n",
      "202.07\n",
      "\n",
      "142.3\n",
      "\n",
      "346.0\n",
      "\n",
      "300.0\n",
      "\n",
      "\n"
     ]
    }
   ],
   "source": [
    "f = open(os.path.join(PROJECT_ROOT_DIR,\"neuron_data.txt\"),\"r\")\n",
    "line = True\n",
    "\n",
    "while line:\n",
    "    line = f.readline()\n",
    "    print(line)"
   ]
  },
  {
   "cell_type": "code",
   "execution_count": null,
   "metadata": {},
   "outputs": [],
   "source": []
  }
 ],
 "metadata": {
  "kernelspec": {
   "display_name": "Python 3",
   "language": "python",
   "name": "python3"
  },
  "language_info": {
   "codemirror_mode": {
    "name": "ipython",
    "version": 3
   },
   "file_extension": ".py",
   "mimetype": "text/x-python",
   "name": "python",
   "nbconvert_exporter": "python",
   "pygments_lexer": "ipython3",
   "version": "3.6.3"
  }
 },
 "nbformat": 4,
 "nbformat_minor": 2
}
